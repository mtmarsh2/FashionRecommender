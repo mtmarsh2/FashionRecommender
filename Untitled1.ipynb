{
 "metadata": {
  "name": "",
  "signature": "sha256:71e27248180db2416bb742510eda692fcf55234380222c753d385662b3ce54c8"
 },
 "nbformat": 3,
 "nbformat_minor": 0,
 "worksheets": [
  {
   "cells": [
    {
     "cell_type": "code",
     "collapsed": false,
     "input": [
      "import os\n",
      "from mpl_toolkits.mplot3d import Axes3D\n",
      "import matplotlib.pyplot as plt\n",
      "import numpy as np\n",
      "import cv2\n",
      "\n",
      "\n",
      "image_name = 'green.png'\n",
      "\n",
      "#creates 3d histogram of image and plots to screen\n",
      "def create_lab_hist(image_name):\n",
      "    if not os.path.exists(image_name):\n",
      "        raise Exception(\"Image:\" , image_name , \"cannot be found, please enter valid image\")\n",
      "    image = cv2.imread(image_name)\n",
      "    lab_image = cv2.cvtColor(image, cv2.COLOR_BGR2LAB)\n",
      "    \n",
      "    hist = cv2.calcHist([lab_image], [1, 2], None, [256, 256], [0, 256, 0, 256])\n",
      "    return hist\n",
      "\n",
      "#creates proper x and y floor values for 3d histogram to user later\n",
      "def create_3d_floor(histogram):\n",
      "    x_data, y_data = np.meshgrid( np.arange(histogram.shape[1]),np.arange(histogram.shape[0]) )\n",
      "    return (x_data, y_data)\n",
      "\n",
      "def create_3d_hist(image_name):\n",
      "    fig = plt.figure()\n",
      "    ax1 = fig.add_subplot(111, projection='3d')\n",
      "    lab_hist = create_lab_hist(image_name)\n",
      "    image = cv2.imread(image_name)\n",
      "    x_data, y_data = create_3d_floor(lab_hist)\n",
      "    x_data = x_data.flatten()\n",
      "    y_data = y_data.flatten()\n",
      "    z_data = lab_hist.flatten()\n",
      "    ax1.bar3d( x_data,y_data,np.zeros(len(z_data)),1, 1, z_data )\n",
      "    plt.show()\n",
      "\n",
      "def print_lab_values(image_name):\n",
      "    \n",
      "    image = cv2.imread(image_name)\n",
      "    lab_image = cv2.cvtColor(image, cv2.COLOR_BGR2LAB)\n",
      "    l_channel,a_channel,b_channel = cv2.split(lab_image)\n",
      "    \n",
      "    # Print the minimum and maximum of lightness.\n",
      "    print \"Min of L channel: \" + str(np.min(l_channel)) \n",
      "    print \"Max of L channel: \" + str(np.max(l_channel)) \n",
      "\n",
      "    # Print the minimum and maximum of a.\n",
      "    print \"Min of a channel: \" + str(np.min(a_channel)) \n",
      "    print \"Max of a channel: \" + str(np.max(a_channel)) \n",
      "\n",
      "    # Print the minimum and maximum of b.\n",
      "    print \"Min of b channel: \" + str(np.min(b_channel)) \n",
      "    print \"Max of b channel: \" + str(np.max(b_channel)) \n",
      "\n",
      "def db():\n",
      "    import pdb\n",
      "    pdb.set_trace()\n",
      "\n"
     ],
     "language": "python",
     "metadata": {},
     "outputs": [],
     "prompt_number": 1
    },
    {
     "cell_type": "code",
     "collapsed": false,
     "input": [
      "create_3d_hist(image_name)"
     ],
     "language": "python",
     "metadata": {},
     "outputs": [
      {
       "ename": "KeyboardInterrupt",
       "evalue": "",
       "output_type": "pyerr",
       "traceback": [
        "\u001b[0;31m---------------------------------------------------------------------------\u001b[0m\n\u001b[0;31mKeyboardInterrupt\u001b[0m                         Traceback (most recent call last)",
        "\u001b[0;32m<ipython-input-2-7575101ebcc7>\u001b[0m in \u001b[0;36m<module>\u001b[0;34m()\u001b[0m\n\u001b[0;32m----> 1\u001b[0;31m \u001b[0mcreate_3d_hist\u001b[0m\u001b[0;34m(\u001b[0m\u001b[0mimage_name\u001b[0m\u001b[0;34m)\u001b[0m\u001b[0;34m\u001b[0m\u001b[0m\n\u001b[0m",
        "\u001b[0;32m<ipython-input-1-1dbf60aee474>\u001b[0m in \u001b[0;36mcreate_3d_hist\u001b[0;34m(image_name)\u001b[0m\n\u001b[1;32m     32\u001b[0m     \u001b[0my_data\u001b[0m \u001b[0;34m=\u001b[0m \u001b[0my_data\u001b[0m\u001b[0;34m.\u001b[0m\u001b[0mflatten\u001b[0m\u001b[0;34m(\u001b[0m\u001b[0;34m)\u001b[0m\u001b[0;34m\u001b[0m\u001b[0m\n\u001b[1;32m     33\u001b[0m     \u001b[0mz_data\u001b[0m \u001b[0;34m=\u001b[0m \u001b[0mlab_hist\u001b[0m\u001b[0;34m.\u001b[0m\u001b[0mflatten\u001b[0m\u001b[0;34m(\u001b[0m\u001b[0;34m)\u001b[0m\u001b[0;34m\u001b[0m\u001b[0m\n\u001b[0;32m---> 34\u001b[0;31m     \u001b[0max1\u001b[0m\u001b[0;34m.\u001b[0m\u001b[0mbar3d\u001b[0m\u001b[0;34m(\u001b[0m \u001b[0mx_data\u001b[0m\u001b[0;34m,\u001b[0m\u001b[0my_data\u001b[0m\u001b[0;34m,\u001b[0m\u001b[0mnp\u001b[0m\u001b[0;34m.\u001b[0m\u001b[0mzeros\u001b[0m\u001b[0;34m(\u001b[0m\u001b[0mlen\u001b[0m\u001b[0;34m(\u001b[0m\u001b[0mz_data\u001b[0m\u001b[0;34m)\u001b[0m\u001b[0;34m)\u001b[0m\u001b[0;34m,\u001b[0m\u001b[0;36m1\u001b[0m\u001b[0;34m,\u001b[0m \u001b[0;36m1\u001b[0m\u001b[0;34m,\u001b[0m \u001b[0mz_data\u001b[0m \u001b[0;34m)\u001b[0m\u001b[0;34m\u001b[0m\u001b[0m\n\u001b[0m\u001b[1;32m     35\u001b[0m     \u001b[0mplt\u001b[0m\u001b[0;34m.\u001b[0m\u001b[0mshow\u001b[0m\u001b[0;34m(\u001b[0m\u001b[0;34m)\u001b[0m\u001b[0;34m\u001b[0m\u001b[0m\n\u001b[1;32m     36\u001b[0m \u001b[0;34m\u001b[0m\u001b[0m\n",
        "\u001b[0;32m/System/Library/Frameworks/Python.framework/Versions/2.7/Extras/lib/python/mpl_toolkits/mplot3d/axes3d.pyc\u001b[0m in \u001b[0;36mbar3d\u001b[0;34m(self, x, y, z, dx, dy, dz, color, zsort, *args, **kwargs)\u001b[0m\n\u001b[1;32m   2351\u001b[0m                 \u001b[0mfacecolors\u001b[0m \u001b[0;34m*=\u001b[0m \u001b[0;34m(\u001b[0m\u001b[0;36m6\u001b[0m \u001b[0;34m*\u001b[0m \u001b[0mlen\u001b[0m\u001b[0;34m(\u001b[0m\u001b[0mx\u001b[0m\u001b[0;34m)\u001b[0m\u001b[0;34m)\u001b[0m\u001b[0;34m\u001b[0m\u001b[0m\n\u001b[1;32m   2352\u001b[0m \u001b[0;34m\u001b[0m\u001b[0m\n\u001b[0;32m-> 2353\u001b[0;31m         \u001b[0mnormals\u001b[0m \u001b[0;34m=\u001b[0m \u001b[0mself\u001b[0m\u001b[0;34m.\u001b[0m\u001b[0m_generate_normals\u001b[0m\u001b[0;34m(\u001b[0m\u001b[0mpolys\u001b[0m\u001b[0;34m)\u001b[0m\u001b[0;34m\u001b[0m\u001b[0m\n\u001b[0m\u001b[1;32m   2354\u001b[0m         \u001b[0msfacecolors\u001b[0m \u001b[0;34m=\u001b[0m \u001b[0mself\u001b[0m\u001b[0;34m.\u001b[0m\u001b[0m_shade_colors\u001b[0m\u001b[0;34m(\u001b[0m\u001b[0mfacecolors\u001b[0m\u001b[0;34m,\u001b[0m \u001b[0mnormals\u001b[0m\u001b[0;34m)\u001b[0m\u001b[0;34m\u001b[0m\u001b[0m\n\u001b[1;32m   2355\u001b[0m         col = art3d.Poly3DCollection(polys,\n",
        "\u001b[0;32m/System/Library/Frameworks/Python.framework/Versions/2.7/Extras/lib/python/mpl_toolkits/mplot3d/axes3d.pyc\u001b[0m in \u001b[0;36m_generate_normals\u001b[0;34m(self, polygons)\u001b[0m\n\u001b[1;32m   1661\u001b[0m             \u001b[0mv1\u001b[0m \u001b[0;34m=\u001b[0m \u001b[0mnp\u001b[0m\u001b[0;34m.\u001b[0m\u001b[0marray\u001b[0m\u001b[0;34m(\u001b[0m\u001b[0mverts\u001b[0m\u001b[0;34m[\u001b[0m\u001b[0;36m0\u001b[0m\u001b[0;34m]\u001b[0m\u001b[0;34m)\u001b[0m \u001b[0;34m-\u001b[0m \u001b[0mnp\u001b[0m\u001b[0;34m.\u001b[0m\u001b[0marray\u001b[0m\u001b[0;34m(\u001b[0m\u001b[0mverts\u001b[0m\u001b[0;34m[\u001b[0m\u001b[0;36m1\u001b[0m\u001b[0;34m]\u001b[0m\u001b[0;34m)\u001b[0m\u001b[0;34m\u001b[0m\u001b[0m\n\u001b[1;32m   1662\u001b[0m             \u001b[0mv2\u001b[0m \u001b[0;34m=\u001b[0m \u001b[0mnp\u001b[0m\u001b[0;34m.\u001b[0m\u001b[0marray\u001b[0m\u001b[0;34m(\u001b[0m\u001b[0mverts\u001b[0m\u001b[0;34m[\u001b[0m\u001b[0;36m2\u001b[0m\u001b[0;34m]\u001b[0m\u001b[0;34m)\u001b[0m \u001b[0;34m-\u001b[0m \u001b[0mnp\u001b[0m\u001b[0;34m.\u001b[0m\u001b[0marray\u001b[0m\u001b[0;34m(\u001b[0m\u001b[0mverts\u001b[0m\u001b[0;34m[\u001b[0m\u001b[0;36m0\u001b[0m\u001b[0;34m]\u001b[0m\u001b[0;34m)\u001b[0m\u001b[0;34m\u001b[0m\u001b[0m\n\u001b[0;32m-> 1663\u001b[0;31m             \u001b[0mnormals\u001b[0m\u001b[0;34m.\u001b[0m\u001b[0mappend\u001b[0m\u001b[0;34m(\u001b[0m\u001b[0mnp\u001b[0m\u001b[0;34m.\u001b[0m\u001b[0mcross\u001b[0m\u001b[0;34m(\u001b[0m\u001b[0mv1\u001b[0m\u001b[0;34m,\u001b[0m \u001b[0mv2\u001b[0m\u001b[0;34m)\u001b[0m\u001b[0;34m)\u001b[0m\u001b[0;34m\u001b[0m\u001b[0m\n\u001b[0m\u001b[1;32m   1664\u001b[0m         \u001b[0;32mreturn\u001b[0m \u001b[0mnormals\u001b[0m\u001b[0;34m\u001b[0m\u001b[0m\n\u001b[1;32m   1665\u001b[0m \u001b[0;34m\u001b[0m\u001b[0m\n",
        "\u001b[0;31mKeyboardInterrupt\u001b[0m: "
       ]
      }
     ],
     "prompt_number": 2
    },
    {
     "cell_type": "code",
     "collapsed": false,
     "input": [],
     "language": "python",
     "metadata": {},
     "outputs": []
    }
   ],
   "metadata": {}
  }
 ]
}