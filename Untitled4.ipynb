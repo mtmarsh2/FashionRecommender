{
 "metadata": {
  "name": "",
  "signature": "sha256:fb2f8af634b4b0193ea09860a33ae76e55e60b6831568b9c8c18441c5e4051f1"
 },
 "nbformat": 3,
 "nbformat_minor": 0,
 "worksheets": [
  {
   "cells": [
    {
     "cell_type": "code",
     "collapsed": false,
     "input": [
      "import os\n",
      "from mpl_toolkits.mplot3d import Axes3D\n",
      "import matplotlib.pyplot as plt\n",
      "import numpy as np\n",
      "import cv2\n",
      "\n",
      "\n",
      "image_name = 'black.jpg'\n",
      "\n",
      "#creates 3d histogram of image and plots to screen\n",
      "def create_lab_hist(image_name):\n",
      "    \n",
      "    image = cv2.imread(image_name)\n",
      "    lab_image = cv2.cvtColor(image, cv2.COLOR_BGR2LAB)\n",
      "    \n",
      "    hist = cv2.calcHist([lab_image], [1, 2], None, [8, 8], [0, 256, 0, 256])\n",
      "    return hist\n",
      "\n",
      "#creates proper x and y floor values for 3d histogram to user later\n",
      "def create_3d_floor(histogram):\n",
      "    x_data, y_data = np.meshgrid( np.arange(histogram.shape[1]),np.arange(histogram.shape[0]) )\n",
      "    return (x_data, y_data)\n",
      "\n",
      "#searches np array of arrays and finds top k valued indexes, and returns list of indexes\n",
      "#TODO figure out way that doesnt alter data structure passed in\n",
      "def find_top_val_postitions(hist, k=4):\n",
      "    new_struct = np.copy(hist)\n",
      "    indices_list = []\n",
      "    for index in range(k):\n",
      "        i,j = np.unravel_index(new_struct.argmax(), new_struct.shape)\n",
      "        indices_list.append((i,j))\n",
      "        new_struct[i,j] = 0\n",
      "    return indices_list\n",
      "\n",
      "#takes in two images and plots their 3d lab histograms side by side\n",
      "def create_3d_hist_plots(image_name_1, image_name_2):\n",
      "    \n",
      "    fig = plt.figure()\n",
      "    ax1 = fig.add_subplot(121, projection='3d')\n",
      "    ax2 = fig.add_subplot(122, projection='3d')\n",
      "    \n",
      "    if not os.path.exists(image_name_1):\n",
      "        raise Exception(\"Image:\" , image_name_1 , \"cannot be found, please enter valid image\")\n",
      "    if not os.path.exists(image_name_2):\n",
      "        raise Exception(\"Image:\" , image_name_2 , \"cannot be found, please enter valid image\")\n",
      "    \n",
      "    lab_hist_1 = create_lab_hist(image_name_1)\n",
      "    lab_hist_2 = create_lab_hist(image_name_2)\n",
      "    image_1 = cv2.imread(image_name_1)\n",
      "    image_2 = cv2.imread(image_name_2)\n",
      "    \n",
      "    x_data_1, y_data_1 = create_3d_floor(lab_hist_1)\n",
      "    x_data_2, y_data_2 = create_3d_floor(lab_hist_2)\n",
      "    x_data_1 = x_data_1.flatten(); y_data_1 = y_data_1.flatten(); z_data_1 = lab_hist_1.flatten()\n",
      "    x_data_2 = x_data_2.flatten(); y_data_2 = y_data_2.flatten(); z_data_2 = lab_hist_2.flatten()\n",
      "    \n",
      "    ax1.bar3d( x_data_1,y_data_1,np.zeros(len(z_data_1)),1, 1, z_data )\n",
      "    ax2.bar3d( x_data,y_data,np.zeros(len(z_data)),1, 1, z_data )\n",
      "    plt.show()\n",
      "\n",
      "def print_lab_values(image_name):\n",
      "    \n",
      "    image = cv2.imread(image_name)\n",
      "    lab_image = cv2.cvtColor(image, cv2.COLOR_BGR2LAB)\n",
      "    l_channel,a_channel,b_channel = cv2.split(lab_image)\n",
      "    \n",
      "    # Print the minimum and maximum of lightness.\n",
      "    print \"Min of L channel: \" + str(np.min(l_channel)) \n",
      "    print \"Max of L channel: \" + str(np.max(l_channel)) \n",
      "\n",
      "    # Print the minimum and maximum of a.\n",
      "    print \"Min of a channel: \" + str(np.min(a_channel)) \n",
      "    print \"Max of a channel: \" + str(np.max(a_channel)) \n",
      "\n",
      "    # Print the minimum and maximum of b.\n",
      "    print \"Min of b channel: \" + str(np.min(b_channel)) \n",
      "    print \"Max of b channel: \" + str(np.max(b_channel)) \n",
      "\n",
      "def db():\n",
      "    import pdb\n",
      "    pdb.set_trace()\n",
      "\n"
     ],
     "language": "python",
     "metadata": {},
     "outputs": [],
     "prompt_number": 62
    },
    {
     "cell_type": "code",
     "collapsed": false,
     "input": [
      "create_3d_hist(image_name)"
     ],
     "language": "python",
     "metadata": {},
     "outputs": [],
     "prompt_number": 16
    },
    {
     "cell_type": "code",
     "collapsed": false,
     "input": [
      "x = np.matrix(np.arange(12).reshape((3,4)));"
     ],
     "language": "python",
     "metadata": {},
     "outputs": [],
     "prompt_number": 17
    },
    {
     "cell_type": "code",
     "collapsed": false,
     "input": [
      "a = np.array([[1,2,3],[4,3,1]]) "
     ],
     "language": "python",
     "metadata": {},
     "outputs": [],
     "prompt_number": 66
    },
    {
     "cell_type": "code",
     "collapsed": false,
     "input": [
      "i,j = np.unravel_index(a.argmax(), a.shape)"
     ],
     "language": "python",
     "metadata": {},
     "outputs": [],
     "prompt_number": 63
    },
    {
     "cell_type": "code",
     "collapsed": false,
     "input": [
      "print find_top_val_postitions(a, 2)"
     ],
     "language": "python",
     "metadata": {},
     "outputs": [
      {
       "output_type": "stream",
       "stream": "stdout",
       "text": [
        "[(1, 0), (0, 2)]\n"
       ]
      }
     ],
     "prompt_number": 67
    },
    {
     "cell_type": "code",
     "collapsed": false,
     "input": [
      "a[0][2]"
     ],
     "language": "python",
     "metadata": {},
     "outputs": [
      {
       "metadata": {},
       "output_type": "pyout",
       "prompt_number": 69,
       "text": [
        "3"
       ]
      }
     ],
     "prompt_number": 69
    },
    {
     "cell_type": "code",
     "collapsed": false,
     "input": [
      "a"
     ],
     "language": "python",
     "metadata": {},
     "outputs": [
      {
       "metadata": {},
       "output_type": "pyout",
       "prompt_number": 61,
       "text": [
        "array([[1, 2, 0],\n",
        "       [0, 3, 1]])"
       ]
      }
     ],
     "prompt_number": 61
    },
    {
     "cell_type": "code",
     "collapsed": false,
     "input": [
      "hist = create_lab_hist(image_name)"
     ],
     "language": "python",
     "metadata": {},
     "outputs": [],
     "prompt_number": 70
    },
    {
     "cell_type": "code",
     "collapsed": false,
     "input": [
      "type(hist)"
     ],
     "language": "python",
     "metadata": {},
     "outputs": [
      {
       "metadata": {},
       "output_type": "pyout",
       "prompt_number": 71,
       "text": [
        "numpy.ndarray"
       ]
      }
     ],
     "prompt_number": 71
    },
    {
     "cell_type": "code",
     "collapsed": false,
     "input": [
      "import cv"
     ],
     "language": "python",
     "metadata": {},
     "outputs": [],
     "prompt_number": 72
    },
    {
     "cell_type": "code",
     "collapsed": false,
     "input": [
      "cv.calcEMD\n"
     ],
     "language": "python",
     "metadata": {},
     "outputs": [
      {
       "ename": "AttributeError",
       "evalue": "'module' object has no attribute 'calcEMD'",
       "output_type": "pyerr",
       "traceback": [
        "\u001b[0;31m---------------------------------------------------------------------------\u001b[0m\n\u001b[0;31mAttributeError\u001b[0m                            Traceback (most recent call last)",
        "\u001b[0;32m<ipython-input-73-d0eb8468cd8d>\u001b[0m in \u001b[0;36m<module>\u001b[0;34m()\u001b[0m\n\u001b[0;32m----> 1\u001b[0;31m \u001b[0mcv\u001b[0m\u001b[0;34m.\u001b[0m\u001b[0mcalcEMD\u001b[0m\u001b[0;34m\u001b[0m\u001b[0m\n\u001b[0m",
        "\u001b[0;31mAttributeError\u001b[0m: 'module' object has no attribute 'calcEMD'"
       ]
      }
     ],
     "prompt_number": 73
    },
    {
     "cell_type": "code",
     "collapsed": false,
     "input": [
      "hist1 = cv.fromarray(hist)"
     ],
     "language": "python",
     "metadata": {},
     "outputs": [],
     "prompt_number": 78
    },
    {
     "cell_type": "code",
     "collapsed": false,
     "input": [
      "cv.CalcEMD2(hist1,hist1,9)"
     ],
     "language": "python",
     "metadata": {},
     "outputs": [
      {
       "ename": "error",
       "evalue": "Bad or unsupported metric type",
       "output_type": "pyerr",
       "traceback": [
        "\u001b[0;31m---------------------------------------------------------------------------\u001b[0m\n\u001b[0;31merror\u001b[0m                                     Traceback (most recent call last)",
        "\u001b[0;32m<ipython-input-80-f4eba0256beb>\u001b[0m in \u001b[0;36m<module>\u001b[0;34m()\u001b[0m\n\u001b[0;32m----> 1\u001b[0;31m \u001b[0mcv\u001b[0m\u001b[0;34m.\u001b[0m\u001b[0mCalcEMD2\u001b[0m\u001b[0;34m(\u001b[0m\u001b[0mhist1\u001b[0m\u001b[0;34m,\u001b[0m\u001b[0mhist1\u001b[0m\u001b[0;34m,\u001b[0m\u001b[0;36m9\u001b[0m\u001b[0;34m)\u001b[0m\u001b[0;34m\u001b[0m\u001b[0m\n\u001b[0m",
        "\u001b[0;31merror\u001b[0m: Bad or unsupported metric type"
       ]
      }
     ],
     "prompt_number": 80
    },
    {
     "cell_type": "code",
     "collapsed": false,
     "input": [],
     "language": "python",
     "metadata": {},
     "outputs": []
    }
   ],
   "metadata": {}
  }
 ]
}